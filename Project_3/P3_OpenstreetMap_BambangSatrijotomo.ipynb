{
 "cells": [
  {
   "cell_type": "markdown",
   "metadata": {},
   "source": [
    "# OpenStreetMap Data Case Study"
   ]
  },
  {
   "cell_type": "markdown",
   "metadata": {},
   "source": [
    "## Map Area"
   ]
  },
  {
   "cell_type": "markdown",
   "metadata": {},
   "source": [
    "I am interested to analyze map the city of Plano, Texas, since this is my hometown. I created a custom extract and downloaded it from Map Zen. Below is the link of the custom map extract.\n",
    "\n",
    "https://mapzen.com/data/metro-extracts/your-extracts/530d0cc67c10\n",
    "\n",
    "\n",
    "Unfortunately, defining the border for the extraction in Map Zen requires perfect rectangular, while it is not the case with the actual boundaries of the city. This problem will be handled later during analysis."
   ]
  },
  {
   "cell_type": "markdown",
   "metadata": {},
   "source": [
    "### Problem Encountered in the Map\n",
    "After downloading the map for Plano, Texas and create a smaller subset of it, I noticed the following problems with the Map:\n",
    "\n",
    "- Incorrect/typo in the street name. One example is \"South Central Expessway\". In this case the cleaning code updates the \"Expessway\" to \"Expressway\". Similar issue with \"North Central Exressway\" that the code also updates it to correct spelling.\n",
    "- Inconsistent Street abreviation, for example Drive sometimes abbreviated as dr., dr or Dr (e.g. \"McDermott Rd\"). Instead of abbreviated that can be inconsistent, I prefer to have the addresses in full format. The cleaning code updates all abbreviated street name to actual name. Some examples here are: \"St\" changed to \"Street\", \"Rd\" to \"Road\", \"Ave\" to \"Avenue\" and \"Dr\" : \"Drive\".\n",
    "- Street names in second level \"k\" tags puled from Tiger GPS data and divided into segments such as shown below. There are pros and cons to either keep or remove the entries from Tiger GPS, however I choose to not to remove them from the data.\n",
    "\t\t<tag k=\"tiger:cfcc\" v=\"A41\" />\n",
    "\t\t<tag k=\"tiger:tlid\" v=\"103418948\" />\n",
    "\t\t<tag k=\"tiger:county\" v=\"Denton, TX\" />\n",
    "\t\t<tag k=\"tiger:source\" v=\"tiger_import_dch_v0.6_20070829\" />\n",
    "\n",
    "\n",
    "- Plano ZIP codes are 75023, 75024, 75025, 75074, 75075, 75093, 75094, 75026 and 75086. Other ZIP codes should be excluded from analysis. Whenever Plano specific data is required, the SQL query is filtered with above ZIP codes only. \n",
    "- Inconsistent and incorrect ZIP codes. For example, while all other addresses have 5 digits ZIP code, there are entries with 5 plus 4 ZIP codes format. Also there are addresses with ZIP code typo such as 75-75. These problems is rectified by updating the values in the database by using SQL update query (DML).\n",
    "- As it will be shown later during analysis, there are less data points for Plano compared to neighbouring city Frisco. Moreover, geographically there was only minor part of Frisco included in the map export.  "
   ]
  },
  {
   "cell_type": "markdown",
   "metadata": {
    "collapsed": true
   },
   "source": [
    "## Incorrect/Typos and Inconsistent Abreviations in the Street Names\n",
    "\n",
    "To make consistent street abbreviation, I use the update_name function below to check each street value and update it if it is in the mapping list. The function also fixes the typos identified earlier.\n"
   ]
  },
  {
   "cell_type": "markdown",
   "metadata": {},
   "source": [
    "def update_name(name, mapping):\n",
    "\n",
    "    m = street_type_re.search(name)\n",
    "    if m:\n",
    "        street_type = m.group()\n",
    "        if street_type not in expected:\n",
    "            better_name = street_type_re.sub(mapping[street_type],name)\n",
    "        else:\n",
    "            better_name = name\n",
    "    return better_name"
   ]
  },
  {
   "cell_type": "markdown",
   "metadata": {},
   "source": [
    "## Zip Code\n",
    "As mentioned earlier, the boundaries of the city is not perfet rectangular, thus the map data extract contains addresses from surounding city like Frisco, Allen, Parker, etc. Because of this, I use Zip Code or Postal Code to validate if the address is in Plano or not.\n",
    "The valid zip codes for Plano are:\n",
    "- 75013\n",
    "- 75023\n",
    "- 75024\n",
    "- 75025\n",
    "- 75074\n",
    "- 75075\n",
    "- 75093\n",
    "\n",
    "The geographical mapping of Plano zip codes is available at this link:\n",
    "\n",
    "http://www.zipmap.net/Texas/Collin_County/Plano.htm\n",
    "\n",
    "Querying the data in SQL reveals one small problem though. There are 2 inconsistencies in zip code records. I could go back to the database preparation script and write the function to fix this issue, but since the problem is very limited, it makes more sense to update the records directly in the SQL as follow."
   ]
  },
  {
   "cell_type": "raw",
   "metadata": {},
   "source": [
    "sqlite> update nodes_tags\n",
    "   ...> set value=\"75074\"\n",
    "   ...> where value=\"75074-8848\";\n",
    "\n",
    "sqlite> update ways_tags\n",
    "   ...> set value=\"75075\"\n",
    "   ...> where value=\"75-75\"\n",
    "   ...> ;"
   ]
  },
  {
   "cell_type": "markdown",
   "metadata": {},
   "source": [
    "By querying Plano zip codes, one can see that zip code 75093 (on the west side of Plano) has the most data. This is not surprising as west of Plano is the area which is most developed in Plano.  "
   ]
  },
  {
   "cell_type": "code",
   "execution_count": null,
   "metadata": {
    "collapsed": true
   },
   "outputs": [],
   "source": [
    "sqlite> select comb.value, count(*) from (select * from nodes_tags union all select * from ways_tags) comb where comb.key=\"postcode\" and comb.value in (\"75013\",\"75023\",\"75024\",\"75025\",\"75074\",\"75075\",\"75093\") group by comb.value order by count(*) desc;\n",
    "\n",
    "value|count(*)\n",
    "75093|321\n",
    "75075|37\n",
    "75074|35\n",
    "75013|31\n",
    "75023|26\n",
    "75024|23\n",
    "75025|23"
   ]
  },
  {
   "cell_type": "markdown",
   "metadata": {},
   "source": [
    "However, the low count of other zip codes raises a question if the zip codes somehow got removed during processing. To verify this I check the original file."
   ]
  },
  {
   "cell_type": "markdown",
   "metadata": {},
   "source": [
    "$ ls -lh Plano.osm\n",
    "\n",
    "-rwxrwxrwx@ 1 macbook  staff    69M Aug 19 22:58 Plano.osm\n",
    "\n",
    "$ grep postcode Plano.osm|wc -l\n",
    "\n",
    "     593"
   ]
  },
  {
   "cell_type": "markdown",
   "metadata": {},
   "source": [
    "Based on this one can see that there are no many postcode data in the original osm file."
   ]
  },
  {
   "cell_type": "markdown",
   "metadata": {},
   "source": [
    "## Facilities"
   ]
  },
  {
   "cell_type": "markdown",
   "metadata": {},
   "source": [
    "Plano is a small but vibrant city in North Texas. It keeps on growing and attracts new residents to move to Plano due to the facilities that the city has to offer. One of the considerations for people moving to a new place to live is the facilities. I am interested to know how many of each amenities are available in Plano map data."
   ]
  },
  {
   "cell_type": "code",
   "execution_count": null,
   "metadata": {
    "collapsed": true
   },
   "outputs": [],
   "source": [
    "sqlite> select comb.value, count(*) from (select * from nodes_tags union all select * from ways_tags) comb \n",
    "where comb.key=\"amenity\" and comb.id in (select distinct comb.id from \n",
    "(select * from nodes_tags union all select * from ways_tags) comb where comb.key=\"postcode\" and comb.value in \n",
    "(\"75013\",\"75023\",\"75024\",\"75025\",\"75074\",\"75075\",\"75093\")) group by comb.value order by count(*) desc;\n",
    "\n",
    "value|count(*)\n",
    "school|51\n",
    "fast_food|20\n",
    "restaurant|16\n",
    "place_of_worship|6\n",
    "pharmacy|5\n",
    "post_office|5\n",
    "bank|2\n",
    "cinema|2\n",
    "fuel|2\n",
    "hospital|2\n",
    "social_facility|2\n",
    "bus_station|1\n",
    "cafe|1\n",
    "clinic|1\n",
    "kindergarten|1\n",
    "library|1\n",
    "pub|1\n",
    "townhall|1"
   ]
  },
  {
   "cell_type": "markdown",
   "metadata": {},
   "source": [
    "Here we can see that schools is the prodominant amenities in Plano. This could be one of the reasons that Plano earns the reputation as a city with good education. \n",
    "\n",
    "One hidden problem here is that there are lack of datapoints for Plano. As an example there are 2nd bus station just opened few years back. Also there are five libraries in Plano instead of one shown in the result above.  \n"
   ]
  },
  {
   "cell_type": "markdown",
   "metadata": {},
   "source": [
    "## Sort Cities by Count"
   ]
  },
  {
   "cell_type": "markdown",
   "metadata": {},
   "source": [
    "As mentioned earlier, the data set also contains cities other than Plano. I am interested to see how many of the records are not for Plano."
   ]
  },
  {
   "cell_type": "code",
   "execution_count": null,
   "metadata": {
    "collapsed": true
   },
   "outputs": [],
   "source": [
    "sqlite> select comb.value, count(*) from (select * from nodes_tags union all select * from ways_tags) comb where comb.key like \"%city%\"  group by comb.value order by count(*) desc;\n",
    "value|count(*)\n",
    "\n",
    "Frisco|9949\n",
    "Plano|3067\n",
    "Allen|41\n",
    "Murphy|5\n",
    "Richardson|5\n",
    "Carrollton|4\n",
    "Dallas|4\n",
    "The Colony|3\n",
    "McKinney|2\n",
    "12|1\n",
    "29|1\n",
    "30|1\n",
    "8|1\n",
    "9|1\n",
    "Allen TX|1\n",
    "Allen, Texas|1\n",
    "Dallas, Texas|1\n",
    "Mckinney|1\n",
    "Murphy, TX|1\n",
    "Plano, TX|1\n",
    "dallas|1\n",
    "murphy|1"
   ]
  },
  {
   "cell_type": "markdown",
   "metadata": {},
   "source": [
    "Surprisingly, the number of records for Frisco, a neighbouring city north of Plano, is far greater than it is for Plano. Although I tried to include as little as possible of Frico are when specifying boundaries for data export, it seems that there are far more data points reported for Frisco."
   ]
  },
  {
   "cell_type": "markdown",
   "metadata": {},
   "source": [
    "## Data Overview"
   ]
  },
  {
   "cell_type": "markdown",
   "metadata": {},
   "source": [
    "Additional information regarding the data is presented below."
   ]
  },
  {
   "cell_type": "markdown",
   "metadata": {},
   "source": [
    "### File Size\n",
    "    - Plano.osm      : 69 MB\n",
    "    - PlanoDB2.db    : 39 MB\n",
    "    - nodes.csv      : 27 MB\n",
    "    - nodes_tags.csv : 2 MB\n",
    "    - ways.csv       : 2.1 MB\n",
    "    - ways_nodes.csv : 8.1 MB\n",
    "    - ways_tags.csv  : 5.2 MB"
   ]
  },
  {
   "cell_type": "markdown",
   "metadata": {},
   "source": [
    "### Number of Nodes and Ways\n",
    "\n"
   ]
  },
  {
   "cell_type": "markdown",
   "metadata": {},
   "source": [
    "sqlite> select count(*) from nodes;\n",
    "\n",
    "count(*)\n",
    "\n",
    "315861\n",
    "\n",
    "sqlite> select count(*) from ways;\n",
    "\n",
    "count(*)\n",
    "\n",
    "34106"
   ]
  },
  {
   "cell_type": "markdown",
   "metadata": {},
   "source": [
    "### Number of Unique Users"
   ]
  },
  {
   "cell_type": "markdown",
   "metadata": {},
   "source": [
    "sqlite> select count(distinct(comb.uid)) from (select uid from nodes union all select uid from ways) comb;\n",
    "\n",
    "count(distinct(comb.uid))\n",
    "\n",
    "386"
   ]
  },
  {
   "cell_type": "markdown",
   "metadata": {},
   "source": [
    "### Top 10 Contributing Users"
   ]
  },
  {
   "cell_type": "code",
   "execution_count": null,
   "metadata": {
    "collapsed": true
   },
   "outputs": [],
   "source": [
    "sqlite> select comb.user, count(*) from (select user from nodes union all select user from ways) comb group by comb.user order by count(*) desc limit 10;\n",
    "\n",
    "user|count(*)\n",
    "Andrew Matheny_import|108609\n",
    "woodpeck_fixbot|46531\n",
    "Andrew Matheny|34545\n",
    "Stephen214|31377\n",
    "Saikrishna|16674\n",
    "TaedeT|7883\n",
    "Dami_Tn|7189\n",
    "lemba|4619\n",
    "AndrewMcQ|4602\n",
    "Eagle1295|4201"
   ]
  },
  {
   "cell_type": "markdown",
   "metadata": {},
   "source": [
    "One interesting fact is that user woodpeck_fixbot which is the 2nd top contributing user, is also a prominent contributors in other maps. The user name that is appended by \"bot\" may imply that the updates were done with automated tools.\n",
    "\n",
    "In total, the top 5 users contributed to 61.22% of data points in the map."
   ]
  },
  {
   "cell_type": "code",
   "execution_count": null,
   "metadata": {
    "collapsed": true
   },
   "outputs": [],
   "source": [
    "User             Count      Percentage\n",
    "\n",
    "===============  =======    ==========\n",
    "\n",
    "woodpeck_fixbot\t 108,609 \t31.03%\n",
    "\n",
    "Andrew Matheny\t 46,531 \t13.30%\n",
    "\n",
    "Stephen214\t 34,545 \t9.87%\n",
    "\n",
    "Saikrishna   \t 16,674 \t4.76%\n",
    "\n",
    "TaedeT      \t  7,883 \t2.25%\n",
    "\n",
    "TOTAL\t         214,242 \t61.22%"
   ]
  },
  {
   "cell_type": "markdown",
   "metadata": {},
   "source": [
    "## Improving Dataset"
   ]
  },
  {
   "cell_type": "markdown",
   "metadata": {},
   "source": [
    "As mentioned earlier, there are issues concerning the quality of data. These issues need to be rectified in the form of data cleanup before it can be used for further analysis. While data clean up can be seen as an unavoidable and expected task in the data analysis work flow, it is always easier and takes less effort to work with data which is ready for analysis from the start.\n",
    "\n",
    "Another problem identified is the lack of datapoints in the map for Plano. As Plano resident, I can see that there are places missing from the map. \n",
    "\n",
    "### Ideas to Improve Dataset\n",
    "\n",
    "In order to increase the quality of the map while addressing above concerns, here are some ideas that I can think of.\n",
    "- Standardize the input data. If the ZIP code is agreed to be in 5 digits format, then any input with other than 5 digits format should be rejected. Similarly, the type of street can be fixed into non abbreviated format that the users can choose from during the upload.\n",
    "- Data validation and cross reference during upload. Data validation can be added into data upload process. For example if the data is for Plano address, it cannot use non Plano ZIP code. Google Map API is a good candidate for cross reference. \n",
    "- Gamification. To resolve the lack of datapoints issue, users can be encouraged to add more data by adding point scoring, competition with others, rules of play, etc. Gamification will increase the engagement with the product and creates and enhances the sense of ownership.\n",
    "\n",
    "### Potential Implementation Issues\n",
    "As with every improvement ideas, there are pitfals which are lurking and need to be addressed accordingly. Below are the possibilities.\n",
    "- Standarization. With every effort of standarization, there comes the requirement to manage and keep the standarization to be accurate and up to date. This is additional effort that may or may not be feasible. Moreover, after standards are agreed upon, a decision needs to made regarding old data which does not conform to the standard.\n",
    "- Data Validation. Cross reference with third party API or database requires legal and potentially commercial agreement. \n",
    "- Gamification may have finite effect on the users if the rules and incentives are not updated. That said, there must be away to entice the old members to keep on updating the map.\n"
   ]
  }
 ],
 "metadata": {
  "kernelspec": {
   "display_name": "Python 3",
   "language": "python",
   "name": "python3"
  },
  "language_info": {
   "codemirror_mode": {
    "name": "ipython",
    "version": 3
   },
   "file_extension": ".py",
   "mimetype": "text/x-python",
   "name": "python",
   "nbconvert_exporter": "python",
   "pygments_lexer": "ipython3",
   "version": "3.6.0"
  }
 },
 "nbformat": 4,
 "nbformat_minor": 2
}
